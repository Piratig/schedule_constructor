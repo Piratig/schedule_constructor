{
 "cells": [
  {
   "cell_type": "code",
   "execution_count": 1,
   "id": "a346f6f1",
   "metadata": {},
   "outputs": [],
   "source": [
    "import pandas as pd\n",
    "\n",
    "pd.set_option('display.max_rows', 50) # показывать больше строк\n",
    "pd.set_option('display.max_columns', 50) # показывать больше колонок"
   ]
  },
  {
   "cell_type": "markdown",
   "id": "57477b5f",
   "metadata": {},
   "source": [
    "# Data import"
   ]
  },
  {
   "cell_type": "code",
   "execution_count": 2,
   "id": "d6e9e0dd",
   "metadata": {},
   "outputs": [],
   "source": [
    "df_odd = pd.read_excel('C:/Users/Igor/Downloads/even/nl-odd-weekend.ods', engine=\"odf\")\n",
    "df_even = pd.read_excel('C:/Users/Igor/Downloads/even/nl-even-weekend.ods', engine=\"odf\")"
   ]
  },
  {
   "cell_type": "markdown",
   "id": "1463ae47",
   "metadata": {},
   "source": [
    "# Functions (Функции)"
   ]
  },
  {
   "cell_type": "code",
   "execution_count": 3,
   "id": "a8701261",
   "metadata": {},
   "outputs": [],
   "source": [
    "def name_columns(df):\n",
    "    df.columns = ['empty_0','line','route','train','empty_1','station','short_1','short_2','arrival','departure',\n",
    "                      'empty_2','empty_3','train_action','empty_4','passengers']\n",
    "\n",
    "def df_time_filler(df, t):\n",
    "    df['arrival'] = df['arrival'].astype(str).apply(lambda x: None if x.strip() == '' else x)\n",
    "    df['arrival'] = df['arrival'].astype(str).apply(lambda x: '{0}:{0}:{0}'.format(t) if x.strip() == 'nan' else x)\n",
    "    df['departure'] = df['departure'].astype(str).apply(lambda x: None if x.strip() == '' else x)\n",
    "    df['departure'] = df['departure'].astype(str).apply(lambda x: '{0}:{0}:{0}'.format(t) if x.strip() == 'nan' else x)\n",
    "    df['arrival'] = pd.to_datetime(df['arrival'])\n",
    "    df['departure'] = pd.to_datetime(df['departure'])\n",
    "    print('row count before cut is: ', df.shape[0])\n",
    "    \n",
    "def df_morning_day(df, night_hour_cut):\n",
    "    df.drop(df[(df['arrival'].dt.hour >= night_hour_cut) & \n",
    "               (df['arrival'].dt.hour < 4)].index, inplace=True)\n",
    "    df.drop(df[(df['departure'].dt.hour >= night_hour_cut) & \n",
    "               (df['departure'].dt.hour < 4)].index, inplace=True)\n",
    "    print('row count after cut is: ', df.shape[0])\n",
    "    print('---------------------------')\n",
    "    \n",
    "def df_night(df, night_hour_cut):\n",
    "    df.drop(df[((df['arrival'].dt.hour >= 0) & (df['arrival'].dt.hour < night_hour_cut) | \n",
    "                (df['arrival'].dt.hour >= 4) & (df['arrival'].dt.hour <= 23))].index, inplace=True)\n",
    "    df.drop(df[((df['departure'].dt.hour >= 0) & (df['departure'].dt.hour < night_hour_cut) | \n",
    "                (df['departure'].dt.hour >= 4) & (df['departure'].dt.hour <= 23))].index, inplace=True)\n",
    "    print('row count after cut is: ', df.shape[0])\n",
    "    print('---------------------------')\n",
    "    \n",
    "def short_filler(df, station, short):\n",
    "    df.loc[df['station'] == station, ('short_1', 'short_2')] = short\n",
    "    print('row with station = {0} filled in short_1 and short_2 by {1}'.format(station, short))\n",
    "    print('---------------------------')\n",
    "    \n",
    "def line_revers(df):\n",
    "    df['line'] = (df['line'] == 2).astype(int)\n",
    "    df.loc[df['line'] == 0, 'line'] = 2\n",
    "    print(\"revers lines for 'nl' only\")\n",
    "    print('---------------------------')\n",
    "    \n",
    "def arrival_departure_error(df):\n",
    "    print('arrival-departure error check:')\n",
    "    df_arrival_departure_error = df.loc[(df['arrival'].dt.time >= df['departure'].dt.time)]\n",
    "    df_arrival_departure_error = df_arrival_departure_error.loc[:, ['route', 'train', 'station', 'arrival', \n",
    "                                                                'departure','train_action','passengers']]\n",
    "    print('row count is: ', df_arrival_departure_error.shape[0]) \n",
    "    df_arrival_departure_error.drop(df_arrival_departure_error[(df_arrival_departure_error['arrival'].dt.time == \n",
    "                                                            df_arrival_departure_error['departure'].dt.time) & \n",
    "                                                           (df_arrival_departure_error['passengers'] == 1)].index, inplace=True)\n",
    "    print('row count without empty trains is: ', df_arrival_departure_error.shape[0])\n",
    "    print('row count without reversal is: ', (df_arrival_departure_error.train.value_counts()>2).sum())\n",
    "    print('---------------------------')\n",
    "    \n",
    "def clean_time(df):\n",
    "    df['arrival'] = [time.time() for time in df['arrival']]\n",
    "    df['departure'] = [time.time() for time in df['departure']]\n",
    "    df.loc[(df['train_action'] == 4) | \n",
    "           (df['train_action'] == 6) | \n",
    "           (df['train_action'] == 1), 'arrival'] = ''\n",
    "    df.loc[(df['train_action'] == 3) | \n",
    "           (df['train_action'] == 5) | \n",
    "           (df['train_action'] == 2), 'departure'] = ''\n",
    "    print('clean time: Done')\n",
    "    print('---------------------------')\n",
    "    \n",
    "def start_end_points_check(df):\n",
    "    print('start_end points check:')\n",
    "    df_route = df.drop_duplicates(['route'], keep='last')\n",
    "    df_start_point = df[df['train_action'] == 1]\n",
    "    df_end_point = df[df['train_action'] == 2]\n",
    "    df_start_Uturn = df[(df['train_action'] == 4) | (df['train_action'] == 6)]\n",
    "    df_end_Uturn = df[(df['train_action'] == 3) | (df['train_action'] == 5)]\n",
    "    print('route count is: ' + str(df_route.shape[0])) \n",
    "    print('start points count is: ' + str(df_start_point.shape[0]))\n",
    "    print('end points count is: ' + str(df_end_point.shape[0]))\n",
    "    print('start U-turn points count is: ' + str(df_start_Uturn.shape[0]))\n",
    "    print('end U-turn points count is: ' + str(df_end_Uturn.shape[0]))\n",
    "    print('---------------------------')\n",
    "    \n",
    "def errors_check(df):\n",
    "    arrival_departure_error(df)\n",
    "    clean_time(df)\n",
    "    start_end_points_check(df)\n",
    "    \n",
    "def exporter(df, line_name, constructor_pattern, day_of_week):\n",
    "    df.drop(['empty_0'], inplace = True, axis = 1)\n",
    "    df.to_excel(\"{0}_{1}_{2}.xlsx\".format(line_name, constructor_pattern, day_of_week))\n",
    "    print('data exported to file {0}_{1}_{2}.xlsx'.format(line_name, constructor_pattern, day_of_week))\n",
    "    \n",
    "def odd_even_assembling():\n",
    "    constructor_pattern = 'odd_even'\n",
    "    \n",
    "    name_columns(df_odd)\n",
    "    name_columns(df_even)\n",
    "    \n",
    "    #working whit time data and cutting the schedule for odd days of the month\n",
    "    df_time_filler(df_odd, '13')\n",
    "    df_morning_day(df_odd, night_hour_cut)\n",
    "    \n",
    "    #some schedules do not have short station names. the function fills in gaps\n",
    "    short_filler(df_odd, station, short)\n",
    "    #for 'nl' change the direction of movement in the 'line' column\n",
    "    line_revers(df_odd)\n",
    "    \n",
    "    #working whit time data and cutting the schedule for even days of the month\n",
    "    df_time_filler(df_even, '01')\n",
    "    df_night(df_even, night_hour_cut)\n",
    "    \n",
    "    #some schedules do not have short station names. the function fills in gaps\n",
    "    short_filler(df_even, station, short)\n",
    "    #for 'nl' change the direction of movement in the 'line' column\n",
    "    line_revers(df_even)\n",
    "    \n",
    "    #combining schedules\n",
    "    df_odd_even = pd.concat([df_odd, df_even])\n",
    "    \n",
    "    errors_check(df_odd_even)\n",
    "    \n",
    "    exporter(df_odd_even, line_name, constructor_pattern, day_of_week)"
   ]
  },
  {
   "cell_type": "markdown",
   "id": "ca4d765d",
   "metadata": {},
   "source": [
    "# Data input"
   ]
  },
  {
   "cell_type": "code",
   "execution_count": 4,
   "id": "73d6dd03",
   "metadata": {},
   "outputs": [],
   "source": [
    "night_hour_cut = 1\n",
    "station = 'Электрозаводская'\n",
    "short = 'rbc'\n",
    "line_name = 'nl'\n",
    "day_of_week = 'weekend'\n",
    "global df_odd_even"
   ]
  },
  {
   "cell_type": "markdown",
   "id": "284300f5",
   "metadata": {},
   "source": [
    "# Script"
   ]
  },
  {
   "cell_type": "code",
   "execution_count": 5,
   "id": "406537f4",
   "metadata": {},
   "outputs": [
    {
     "name": "stdout",
     "output_type": "stream",
     "text": [
      "row count before cut is:  6049\n",
      "row count after cut is:  5937\n",
      "---------------------------\n",
      "row with station = Электрозаводская filled in short_1 and short_2 by rbc\n",
      "---------------------------\n",
      "revers lines for 'nl' only\n",
      "---------------------------\n",
      "row count before cut is:  6029\n",
      "row count after cut is:  112\n",
      "---------------------------\n",
      "row with station = Электрозаводская filled in short_1 and short_2 by rbc\n",
      "---------------------------\n",
      "revers lines for 'nl' only\n",
      "---------------------------\n",
      "arrival-departure error check:\n",
      "row count is:  611\n",
      "row count without empty trains is:  565\n",
      "row count without reversal is:  0\n",
      "---------------------------\n",
      "clean time: Done\n",
      "---------------------------\n",
      "start_end points check:\n",
      "route count is: 19\n",
      "start points count is: 19\n",
      "end points count is: 19\n",
      "start U-turn points count is: 535\n",
      "end U-turn points count is: 535\n",
      "---------------------------\n",
      "data exported to file nl_odd_even_weekend.xlsx\n"
     ]
    }
   ],
   "source": [
    "odd_even_assembling()"
   ]
  },
  {
   "cell_type": "code",
   "execution_count": null,
   "id": "93684850",
   "metadata": {},
   "outputs": [],
   "source": []
  }
 ],
 "metadata": {
  "kernelspec": {
   "display_name": "Python 3",
   "language": "python",
   "name": "python3"
  },
  "language_info": {
   "codemirror_mode": {
    "name": "ipython",
    "version": 3
   },
   "file_extension": ".py",
   "mimetype": "text/x-python",
   "name": "python",
   "nbconvert_exporter": "python",
   "pygments_lexer": "ipython3",
   "version": "3.8.8"
  }
 },
 "nbformat": 4,
 "nbformat_minor": 5
}
