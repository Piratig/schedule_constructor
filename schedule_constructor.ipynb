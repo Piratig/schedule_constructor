{
 "cells": [
  {
   "cell_type": "code",
   "execution_count": 1,
   "id": "a346f6f1",
   "metadata": {},
   "outputs": [],
   "source": [
    "import pandas as pd\n",
    "\n",
    "pd.set_option('display.max_rows', 50) # показывать больше строк\n",
    "pd.set_option('display.max_columns', 50) # показывать больше колонок"
   ]
  },
  {
   "cell_type": "markdown",
   "id": "c3c51a7b",
   "metadata": {},
   "source": [
    "# Data import"
   ]
  },
  {
   "cell_type": "code",
   "execution_count": 2,
   "id": "5dc93b87",
   "metadata": {},
   "outputs": [],
   "source": [
    "df_odd = pd.read_excel('C:/Users/Igor/Downloads/even/nl-odd-weekend.ods', engine=\"odf\")\n",
    "df_even = pd.read_excel('C:/Users/Igor/Downloads/even/nl-even-weekend.ods', engine=\"odf\")"
   ]
  },
  {
   "cell_type": "markdown",
   "id": "4aa2ac43",
   "metadata": {},
   "source": [
    "# Functions (Функции)"
   ]
  },
  {
   "cell_type": "markdown",
   "id": "ce806927",
   "metadata": {},
   "source": [
    "## Preparation"
   ]
  },
  {
   "cell_type": "code",
   "execution_count": 3,
   "id": "fef113ab",
   "metadata": {},
   "outputs": [],
   "source": [
    "def name_columns(df):\n",
    "    df.columns = ['empty_0','line','route','train','empty_1','station','short_1','short_2','arrival','departure',\n",
    "                  'empty_2','empty_3','train_action','empty_4','passengers']"
   ]
  },
  {
   "cell_type": "markdown",
   "id": "518d7911",
   "metadata": {},
   "source": [
    "## Work with time"
   ]
  },
  {
   "cell_type": "markdown",
   "id": "6bdcee86",
   "metadata": {},
   "source": [
    "### Filling time gaps."
   ]
  },
  {
   "cell_type": "code",
   "execution_count": 4,
   "id": "66fb4504",
   "metadata": {},
   "outputs": [],
   "source": [
    "def df_time_filler(df, t):\n",
    "    df['arrival'] = df['arrival'].astype(str).apply(lambda x: None if x.strip() == '' else x)\n",
    "    df['arrival'] = df['arrival'].astype(str).apply(lambda x: '{0}:{0}:{0}'.format(t) if x.strip() == 'nan' else x)\n",
    "    df['departure'] = df['departure'].astype(str).apply(lambda x: None if x.strip() == '' else x)\n",
    "    df['departure'] = df['departure'].astype(str).apply(lambda x: '{0}:{0}:{0}'.format(t) if x.strip() == 'nan' else x)\n",
    "    df['arrival'] = pd.to_datetime(df['arrival'])\n",
    "    df['departure'] = pd.to_datetime(df['departure'])\n",
    "    print('row count before cut is: ', df.shape[0])"
   ]
  },
  {
   "cell_type": "markdown",
   "id": "72a3c426",
   "metadata": {},
   "source": [
    "### Cutting the schedule"
   ]
  },
  {
   "cell_type": "code",
   "execution_count": 5,
   "id": "86188a46",
   "metadata": {},
   "outputs": [],
   "source": [
    "# the new schedule starts at 4 a.m.\n",
    "# the morning schedule (4a.m. - morning_hour_cut)\n",
    "def df_morning(df, morning_hour_cut):\n",
    "    df.drop(df[((df['arrival'].dt.hour >= 0) & (df['arrival'].dt.hour < 4) | \n",
    "                (df['arrival'].dt.hour >= morning_hour_cut) & (df['arrival'].dt.hour <= 23))].index, inplace=True)\n",
    "    df.drop(df[((df['departure'].dt.hour >= 0) & (df['departure'].dt.hour < 4) | \n",
    "                (df['departure'].dt.hour >= morning_hour_cut) & (df['departure'].dt.hour <= 23))].index, inplace=True)\n",
    "    print('row count after cut is: ', df.shape[0])\n",
    "    print('---------------------------')\n",
    "    \n",
    "# the morning_day schedule (4a.m. - night_hour_cut)    \n",
    "def df_morning_day(df, night_hour_cut):\n",
    "    df.drop(df[(df['arrival'].dt.hour >= night_hour_cut) & \n",
    "               (df['arrival'].dt.hour < 4)].index, inplace=True)\n",
    "    df.drop(df[(df['departure'].dt.hour >= night_hour_cut) & \n",
    "               (df['departure'].dt.hour < 4)].index, inplace=True)\n",
    "    print('row count after cut is: ', df.shape[0])\n",
    "    print('---------------------------')\n",
    "    \n",
    "# the day_night schedule (morning_hour_cut - 4a.m.)    \n",
    "def df_day_night(df, morning_hour_cut):\n",
    "    df.drop(df[(df['arrival'].dt.hour < morning_hour_cut) & \n",
    "               (df['arrival'].dt.hour > 4)].index, inplace=True)\n",
    "    df.drop(df[(df['departure'].dt.hour < morning_hour_cut) & \n",
    "               (df['departure'].dt.hour > 4)].index, inplace=True)\n",
    "    print('row count after cut is: ', df.shape[0])\n",
    "    print('---------------------------')\n",
    "    \n",
    "# the night schedule (night_hour_cut - 4a.m.)    \n",
    "def df_night(df, night_hour_cut):\n",
    "    df.drop(df[((df['arrival'].dt.hour >= 0) & (df['arrival'].dt.hour < night_hour_cut) | \n",
    "                (df['arrival'].dt.hour >= 4) & (df['arrival'].dt.hour <= 23))].index, inplace=True)\n",
    "    df.drop(df[((df['departure'].dt.hour >= 0) & (df['departure'].dt.hour < night_hour_cut) | \n",
    "                (df['departure'].dt.hour >= 4) & (df['departure'].dt.hour <= 23))].index, inplace=True)\n",
    "    print('row count after cut is: ', df.shape[0])\n",
    "    print('---------------------------')"
   ]
  },
  {
   "cell_type": "markdown",
   "id": "5cfbc5e6",
   "metadata": {},
   "source": [
    "### Delete time at start and end points"
   ]
  },
  {
   "cell_type": "code",
   "execution_count": 6,
   "id": "52e41d7a",
   "metadata": {},
   "outputs": [],
   "source": [
    "def clean_time(df):\n",
    "    df['arrival'] = [time.time() for time in df['arrival']]\n",
    "    df['departure'] = [time.time() for time in df['departure']]\n",
    "    df.loc[(df['train_action'] == 4) | \n",
    "           (df['train_action'] == 6) | \n",
    "           (df['train_action'] == 1), 'arrival'] = ''\n",
    "    df.loc[(df['train_action'] == 3) | \n",
    "           (df['train_action'] == 5) | \n",
    "           (df['train_action'] == 2), 'departure'] = ''\n",
    "    print('clean time: Done')\n",
    "    print('---------------------------')"
   ]
  },
  {
   "cell_type": "markdown",
   "id": "9d0cb463",
   "metadata": {},
   "source": [
    "## Errors"
   ]
  },
  {
   "cell_type": "code",
   "execution_count": 7,
   "id": "6001de19",
   "metadata": {},
   "outputs": [],
   "source": [
    "def arrival_departure_error(df):\n",
    "    print('arrival-departure error check:')\n",
    "    df_arrival_departure_error = df.loc[(df['arrival'].dt.time >= df['departure'].dt.time)]\n",
    "    df_arrival_departure_error = df_arrival_departure_error.loc[:, ['route', 'train', 'station', 'arrival', \n",
    "                                                                'departure','train_action','passengers']]\n",
    "    print('row count is: ', df_arrival_departure_error.shape[0]) \n",
    "    df_arrival_departure_error.drop(df_arrival_departure_error[(df_arrival_departure_error['arrival'].dt.time == \n",
    "                                                            df_arrival_departure_error['departure'].dt.time) & \n",
    "                                                           (df_arrival_departure_error['passengers'] == 1)].index, inplace=True)\n",
    "    print('row count without empty trains is: ', df_arrival_departure_error.shape[0])\n",
    "    print('row count without reversal is: ', (df_arrival_departure_error.train.value_counts()>2).sum())\n",
    "    print('---------------------------')\n",
    "    \n",
    "def start_end_points_check(df):\n",
    "    print('start_end points check:')\n",
    "    df_route = df.drop_duplicates(['route'], keep='last')\n",
    "    df_start_point = df[df['train_action'] == 1]\n",
    "    df_end_point = df[df['train_action'] == 2]\n",
    "    df_start_Uturn = df[(df['train_action'] == 4) | (df['train_action'] == 6)]\n",
    "    df_end_Uturn = df[(df['train_action'] == 3) | (df['train_action'] == 5)]\n",
    "    print('route count is: ' + str(df_route.shape[0])) \n",
    "    print('start points count is: ' + str(df_start_point.shape[0]))\n",
    "    print('end points count is: ' + str(df_end_point.shape[0]))\n",
    "    print('start U-turn points count is: ' + str(df_start_Uturn.shape[0]))\n",
    "    print('end U-turn points count is: ' + str(df_end_Uturn.shape[0]))\n",
    "    print('---------------------------')\n",
    "    \n",
    "def errors_check(df):\n",
    "    arrival_departure_error(df)\n",
    "    clean_time(df)\n",
    "    start_end_points_check(df)"
   ]
  },
  {
   "cell_type": "markdown",
   "id": "61c67234",
   "metadata": {},
   "source": [
    "## Other functions"
   ]
  },
  {
   "cell_type": "code",
   "execution_count": 8,
   "id": "67388801",
   "metadata": {},
   "outputs": [],
   "source": [
    "def short_filler(df, station, short):\n",
    "    df.loc[df['station'] == station, ('short_1', 'short_2')] = short\n",
    "    print('row with station = {0} filled in short_1 and short_2 by {1}'.format(station, short))\n",
    "    print('---------------------------')\n",
    "    \n",
    "def line_revers(df):\n",
    "    df['line'] = (df['line'] == 2).astype(int)\n",
    "    df.loc[df['line'] == 0, 'line'] = 2\n",
    "    \n",
    "def exporter(df, line_name, constructor_pattern, day_of_week):\n",
    "    df.drop(['empty_0'], inplace = True, axis = 1)\n",
    "    df.to_excel(\"{0}_{1}_{2}.xlsx\".format(line_name, constructor_pattern, day_of_week))\n",
    "    print('data exported to file {0}_{1}_{2}.xlsx'.format(line_name, constructor_pattern, day_of_week))"
   ]
  },
  {
   "cell_type": "markdown",
   "id": "0052565a",
   "metadata": {},
   "source": [
    "## Assembling scripts"
   ]
  },
  {
   "cell_type": "code",
   "execution_count": 9,
   "id": "6f153e31",
   "metadata": {},
   "outputs": [],
   "source": [
    "def odd_even_assembling():\n",
    "    constructor_pattern = 'odd_even'    \n",
    "    name_columns(df_odd)\n",
    "    name_columns(df_even)\n",
    "    \n",
    "    #working whit time data and cutting the schedule for odd days of the month\n",
    "    #odd\n",
    "    df_time_filler(df_odd, '13')\n",
    "    df_morning_day(df_odd, night_hour_cut)\n",
    "    #even\n",
    "    df_time_filler(df_even, '01')\n",
    "    df_night(df_even, night_hour_cut)\n",
    "    \n",
    "    #some schedules do not have short station names. the function fills in gaps\n",
    "    short_filler(df_odd, station, short)\n",
    "    short_filler(df_even, station, short)\n",
    "    #for 'nl' change the direction of movement in the 'line' column\n",
    "    if line_name == 'nl':\n",
    "        line_revers(df_odd)\n",
    "        line_revers(df_even)\n",
    "        print(\"revers lines for 'nl' only\")\n",
    "        print('---------------------------')\n",
    "    \n",
    "    #combining schedules\n",
    "    df_odd_even = pd.concat([df_odd, df_even])\n",
    "    \n",
    "    errors_check(df_odd_even)\n",
    "    \n",
    "    exporter(df_odd_even, line_name, constructor_pattern, day_of_week)\n",
    "    \n",
    "def even_odd_assembling():\n",
    "    constructor_pattern = 'even_odd'\n",
    "    name_columns(df_odd)\n",
    "    name_columns(df_even)\n",
    "    \n",
    "    #working whit time data and cutting the schedule for odd days of the month\n",
    "    #odd\n",
    "    df_time_filler(df_odd, '13')\n",
    "    df_day_night(df_odd, morning_hour_cut)\n",
    "    #even\n",
    "    df_time_filler(df_even, '05')\n",
    "    df_morning(df_even, morning_hour_cut)\n",
    "    \n",
    "    #some schedules do not have short station names. the function fills in gaps\n",
    "    short_filler(df_odd, station, short)\n",
    "    short_filler(df_even, station, short)\n",
    "    #for 'nl' change the direction of movement in the 'line' column\n",
    "    if line_name == 'nl':\n",
    "        line_revers(df_odd)\n",
    "        line_revers(df_even)\n",
    "        print(\"revers lines for 'nl' only\")\n",
    "        print('---------------------------')\n",
    "        \n",
    "    #combining schedules\n",
    "    df_even_odd = pd.concat([df_even, df_odd])\n",
    "    \n",
    "    errors_check(df_even_odd)\n",
    "    \n",
    "    exporter(df_even_odd, line_name, constructor_pattern, day_of_week)"
   ]
  },
  {
   "cell_type": "markdown",
   "id": "b1b8a1a0",
   "metadata": {},
   "source": [
    "# Data input"
   ]
  },
  {
   "cell_type": "code",
   "execution_count": 10,
   "id": "0e4732c5",
   "metadata": {},
   "outputs": [],
   "source": [
    "morning_hour_cut = 7\n",
    "night_hour_cut = 1\n",
    "station = 'Электрозаводская'\n",
    "short = 'rbc'\n",
    "line_name = 'nl'\n",
    "day_of_week = 'weekend'\n",
    "global df_odd_even"
   ]
  },
  {
   "cell_type": "markdown",
   "id": "22f1db85",
   "metadata": {},
   "source": [
    "# Script"
   ]
  },
  {
   "cell_type": "code",
   "execution_count": 11,
   "id": "eea68f23",
   "metadata": {},
   "outputs": [
    {
     "name": "stdout",
     "output_type": "stream",
     "text": [
      "row count before cut is:  6049\n",
      "row count after cut is:  5937\n",
      "---------------------------\n",
      "row count before cut is:  6029\n",
      "row count after cut is:  112\n",
      "---------------------------\n",
      "row with station = Электрозаводская filled in short_1 and short_2 by rbc\n",
      "---------------------------\n",
      "row with station = Электрозаводская filled in short_1 and short_2 by rbc\n",
      "---------------------------\n",
      "revers lines for 'nl' only\n",
      "---------------------------\n",
      "arrival-departure error check:\n",
      "row count is:  611\n",
      "row count without empty trains is:  565\n",
      "row count without reversal is:  0\n",
      "---------------------------\n",
      "clean time: Done\n",
      "---------------------------\n",
      "start_end points check:\n",
      "route count is: 19\n",
      "start points count is: 19\n",
      "end points count is: 19\n",
      "start U-turn points count is: 535\n",
      "end U-turn points count is: 535\n",
      "---------------------------\n",
      "data exported to file nl_odd_even_weekend.xlsx\n"
     ]
    }
   ],
   "source": [
    "odd_even_assembling()"
   ]
  },
  {
   "cell_type": "code",
   "execution_count": null,
   "id": "48fdf33a",
   "metadata": {},
   "outputs": [],
   "source": []
  }
 ],
 "metadata": {
  "kernelspec": {
   "display_name": "Python 3",
   "language": "python",
   "name": "python3"
  },
  "language_info": {
   "codemirror_mode": {
    "name": "ipython",
    "version": 3
   },
   "file_extension": ".py",
   "mimetype": "text/x-python",
   "name": "python",
   "nbconvert_exporter": "python",
   "pygments_lexer": "ipython3",
   "version": "3.8.8"
  }
 },
 "nbformat": 4,
 "nbformat_minor": 5
}
